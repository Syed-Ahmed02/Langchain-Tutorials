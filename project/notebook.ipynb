{
 "cells": [
  {
   "cell_type": "markdown",
   "id": "f2edba47-9e2e-476e-9f2f-fb177b329063",
   "metadata": {},
   "source": [
    "![A car dashboard with lots of new technical features.](images/dashboard.jpg)\n",
    "\n",
    "You're working for a well-known car manufacturer who is looking at implementing LLMs into vehicles to provide guidance to drivers. You've been asked to experiment with integrating car manuals with an LLM to create a context-aware chatbot. They hope that this context-aware LLM can be hooked up to a text-to-speech software to read the model's response aloud.\n",
    "\n",
    "As a proof of concept, you'll integrate several pages from a car manual that contains car warning messages and their meanings and recommended actions. This particular manual, stored as an HTML file, `mg-zs-warning-messages.html`, is from an MG ZS automobile, a compact SUV. Armed with your newfound knowledge of LLMs and LangChain, you'll implement Retrieval Augmented Generation (RAG) to create the context-aware chatbot.\n",
    "\n",
    "**Note: Although we'll be using the OpenAI API in this project, you do not need to specify an API key.**"
   ]
  },
  {
   "cell_type": "code",
   "execution_count": 19,
   "id": "2acabac3-1319-441d-81b3-2e1a6f7f36ac",
   "metadata": {
    "executionCancelledAt": null,
    "executionTime": 18437,
    "lastExecutedAt": 1760566689737,
    "lastExecutedByKernel": "ff972515-5848-4979-94e6-b81884c0d405",
    "lastScheduledRunId": null,
    "lastSuccessfullyExecutedCode": "# Run this cell to install the necessary packages\nimport subprocess\nimport pkg_resources\n\ndef install_if_needed(package, version):\n    '''Function to ensure that the libraries used are consistent to avoid errors.'''\n    try:\n        pkg = pkg_resources.get_distribution(package)\n        if pkg.version != version:\n            raise pkg_resources.VersionConflict(pkg, version)\n    except (pkg_resources.DistributionNotFound, pkg_resources.VersionConflict):\n        subprocess.check_call([\"pip\", \"install\", f\"{package}=={version}\"])\n\ninstall_if_needed(\"langchain-core\", \"0.3.72\")\ninstall_if_needed(\"langchain-openai\", \"0.3.28\")\ninstall_if_needed(\"langchain-community\", \"0.3.27\")\ninstall_if_needed(\"unstructured\", \"0.18.11\")\ninstall_if_needed(\"langchain-chroma\", \"0.2.5\")\ninstall_if_needed(\"langchain-text-splitters\", \"0.3.9\")",
    "outputsMetadata": {
     "0": {
      "height": 616,
      "type": "stream"
     },
     "1": {
      "height": 269,
      "type": "stream"
     },
     "2": {
      "height": 616,
      "type": "stream"
     },
     "3": {
      "height": 80,
      "type": "stream"
     },
     "4": {
      "height": 616,
      "type": "stream"
     },
     "5": {
      "height": 80,
      "type": "stream"
     },
     "6": {
      "height": 616,
      "type": "stream"
     },
     "7": {
      "height": 80,
      "type": "stream"
     },
     "8": {
      "height": 616,
      "type": "stream"
     },
     "9": {
      "height": 80,
      "type": "stream"
     },
     "10": {
      "height": 616,
      "type": "stream"
     },
     "11": {
      "height": 227,
      "type": "stream"
     }
    }
   },
   "outputs": [],
   "source": [
    "# Run this cell to install the necessary packages\n",
    "import subprocess\n",
    "import pkg_resources\n",
    "\n",
    "def install_if_needed(package, version):\n",
    "    '''Function to ensure that the libraries used are consistent to avoid errors.'''\n",
    "    try:\n",
    "        pkg = pkg_resources.get_distribution(package)\n",
    "        if pkg.version != version:\n",
    "            raise pkg_resources.VersionConflict(pkg, version)\n",
    "    except (pkg_resources.DistributionNotFound, pkg_resources.VersionConflict):\n",
    "        subprocess.check_call([\"pip\", \"install\", f\"{package}=={version}\"])\n",
    "\n",
    "install_if_needed(\"langchain-core\", \"0.3.72\")\n",
    "install_if_needed(\"langchain-openai\", \"0.3.28\")\n",
    "install_if_needed(\"langchain-community\", \"0.3.27\")\n",
    "install_if_needed(\"unstructured\", \"0.18.11\")\n",
    "install_if_needed(\"langchain-chroma\", \"0.2.5\")\n",
    "install_if_needed(\"langchain-text-splitters\", \"0.3.9\")"
   ]
  },
  {
   "cell_type": "code",
   "execution_count": 20,
   "id": "61baf413-6464-4c1c-a52d-b3764c124602",
   "metadata": {
    "executionCancelledAt": null,
    "executionTime": 241,
    "lastExecutedAt": 1760566693519,
    "lastExecutedByKernel": "ff972515-5848-4979-94e6-b81884c0d405",
    "lastScheduledRunId": null,
    "lastSuccessfullyExecutedCode": "# Import the required packages\nfrom langchain_core.prompts import ChatPromptTemplate\nfrom langchain_openai import ChatOpenAI, OpenAIEmbeddings\nfrom langchain_community.document_loaders import UnstructuredHTMLLoader\nfrom langchain_core.runnables import RunnablePassthrough\nfrom langchain_text_splitters import RecursiveCharacterTextSplitter\nfrom langchain_chroma import Chroma"
   },
   "outputs": [],
   "source": [
    "# Import the required packages\n",
    "from langchain_core.prompts import ChatPromptTemplate\n",
    "from langchain_openai import ChatOpenAI, OpenAIEmbeddings\n",
    "from langchain_community.document_loaders import UnstructuredHTMLLoader\n",
    "from langchain_core.runnables import RunnablePassthrough\n",
    "from langchain_text_splitters import RecursiveCharacterTextSplitter\n",
    "from langchain_chroma import Chroma"
   ]
  },
  {
   "cell_type": "code",
   "execution_count": 21,
   "id": "bed58c70-1315-409c-a590-a4c7af3cad80",
   "metadata": {},
   "outputs": [],
   "source": [
    "# Load the HTML as a LangChain document loader\n",
    "loader = UnstructuredHTMLLoader(file_path=\"data/mg-zs-warning-messages.html\")\n",
    "car_docs = loader.load()"
   ]
  },
  {
   "cell_type": "code",
   "execution_count": 22,
   "id": "d09bd6c4-a307-4991-98ef-cde7b9c02d8b",
   "metadata": {},
   "outputs": [],
   "source": [
    "import os\n",
    "\n",
    "# Load the models required to complete the exercise\n",
    "llm = ChatOpenAI(model=\"gpt-4o-mini\", temperature=0)\n",
    "embeddings = OpenAIEmbeddings(model=\"text-embedding-3-small\", openai_api_key=os.environ[\"OPENAI_API_KEY\"])"
   ]
  },
  {
   "cell_type": "code",
   "execution_count": 23,
   "id": "636184c7-8491-4bcb-93c5-6c22dd6f8c2b",
   "metadata": {},
   "outputs": [
    {
     "name": "stdout",
     "output_type": "stream",
     "text": [
      "[Document(metadata={'source': 'data/mg-zs-warning-messages.html'}, page_content='Warning Message Procedure Cruise Control Fault Indicates that the cruise control system has detected a fault. Please consult an MG Authorised Repairer as soon as possible. Active Speed Limiter Fault Indicates that the active speed limit system has detected a fault. Contact an MG Authorised Repairer as soon as possible. Engine Coolant Temperature High High engine coolant temperature could result in severe damage. As soon as conditions permit, safely stop the vehicle and switch off the engine and contact an MG Authorised Repairer immediately. Engine Coolant Temperature Sensor Fault Indicates that the engine coolant temperature sensor has failed. As soon as conditions permit, safely stop the vehicle and switch off the engine and contact an MG Authorised Repairer immediately.\\n\\nWarning Message Procedure Low Oil Pressure Indicates that the oil pressure is too low, which may result in severe engine damage. As soon as safety permits, stop the car, switch off the engine and check the engine oil level. Contact an MG Authorised Repairer as soon as possible. Engine Fault Indicates that a failure has occurred that will effect engine performance and emissions. Contact an MG Authorised Repairer as soon as possible. Check Engine Indicates that a failure has occurred that may severely damage the engine. As soon as conditions permit, safely stop the vehicle , switch off the engine and contact an MG Authorised Repairer immediately.\\n\\nWarning Message Procedure Stop Start System Fault Indicates that the Stop/Start intelligent fuel saving system has detected a fault. Please consult an MG Authorised Repairer as soon as possible. Clutch Switch Fault Indicates that the clutch switch has detected a fault. Please consult an MG Authorised Repairer as soon as possible. Gasoline Particular Filter Full Indicates that the gasoline particular filter is full. Please consult an MG Authorised Repairer as soon as possible. Ignition System Fault Indicates that the ignition system has detected a fault. Please consult an MG Authorised Repairer immediately.\\n\\nWarning Message Procedure Start Stop Button Fault Indicates that the Start Stop button has detected a fault. Please consult an MG Authorised Repairer immediately. Passive Entry Fault Indicates that the passive keyless entry (PKE) function has detected a fault. Please consult an MG Authorised Repairer as soon as possible. ABS Fault Indicates that the anti-lock brake system (ABS) has failed and the ABS function is about to be disabled. Please consult an MG Authorised Repairer immediately.\\n\\nWarning Message Procedure Brake Fault Indicates that the brake fluid could be low or a fault has been detected in the Electronic Brake-force Distribution (EBD) system. As soon as safety permits, stop the car, switch off the engine and check the brake fluid level. Contact an MG Authorised Repairer as soon as possible. Stability Control Fault Indicates that the stability control system has detected a fault. Please consult an MG Authorised Repairer immediately. Traction Control Fault Indicates that the traction control system has detected a fault. Please consult an MG Authorised Repairer immediately.\\n\\nWarning Message Procedure EPB System Fault Indicates that the electronic parking brake system (EPB) has detected a fault. Please consult an MG Authorised Repairer as soon as possible. Park Brake Force Not Enough Indicates that there is an issue with the electronic parking brake, it may not be able to provide adequate clamping force. Contact an MG Authorised Repairer as soon as possible. Autohold Fault Indicates that the Autohold System has detected a fault. Please consult an MG Authorised Repairer as soon as possible. Hill Descent Control Fault Indicates that the hill descent control system has detected a fault. Please consult an MG Authorised Repairer as soon as possible.\\n\\nWarning Message Procedure EPS Performance Reduced Indicates that the electric power steering system has a general failure and that the steering performance has been reduced. As soon as conditions permit, safely stop the vehicle and switch off the engine. After a short while, start the engine, drive the vehicle a short distance and monitor the operation of the steering, if the message is still displayed or the steering assistance reduced please contact an MG Authorised Repairer immediately. EPS Assistance Failure Indicates that the electric power steering system has failed. Please consult an MG Authorised Repairer immediately.\\n\\nWarning Message Procedure Steering Angle Fault Indicates that the steering angle sensor has failed. Please consult an MG Authorised Repairer as soon as possible. Steering Angle Uncalibrated Indicates that the steering angle sensor is not calibrated. Please consult an MG Authorised Repairer as soon as possible. ESCL Fault Indicates that a fault has been detected with the Electronic Steering Column Lock (ESCL). As soon as conditions permit, safely stop the vehicle and switch off the engine. Contact an MG Authorised Repairer as soon as possible. Fuel Sensor Fault Indicates that fuel sensor has detected a fault. Please consult an MG Authorised Repairer as soon as possible.\\n\\nWarning Message Procedure Airbag Fault Indicates that the Airbag system has detected a fault. As soon as conditions permit, safely stop the vehicle and switch off the engine and contact an MG Authorised Repairer immediately. Front Left/Front Right/Rear Left/Rear Right Tyre Sensor Battery Low Indicates that the Tyre Pressure Monitoring system has detected that a tyre pressure sensor has a low battery. Please consult an MG Authorised Repairer as soon as possible. TPMS Fault Indicates that the tyre pressure monitoring system has detected a fault. Please consult an MG Authorised Repairer as soon as possible.\\n\\nWarning Message Procedure 12V Battery Charging System Fault Indicates that the 12V battery charging system has failed. Please consult an MG Authorised Repairer immediately. Rear Drive Assist System Fault Indicates that the rear drive assist system (RDA) has detected a fault. Please consult an MG Authorised Repairer as soon as possible.')]\n",
      "Chunk 1:\n",
      "Warning Message Procedure Cruise Control Fault Indicates that the cruise control system has detected a fault. Please consult an MG Authorised Repairer as soon as possible. Active Speed Limiter Fault Indicates that the active speed limit system has detected a fault. Contact an MG Authorised Repairer\n",
      "\n",
      "Chunk 2:\n",
      "that the active speed limit system has detected a fault. Contact an MG Authorised Repairer as soon as possible. Engine Coolant Temperature High High engine coolant temperature could result in severe damage. As soon as conditions permit, safely stop the vehicle and switch off the engine and contact\n",
      "\n",
      "Chunk 3:\n",
      "damage. As soon as conditions permit, safely stop the vehicle and switch off the engine and contact an MG Authorised Repairer immediately. Engine Coolant Temperature Sensor Fault Indicates that the engine coolant temperature sensor has failed. As soon as conditions permit, safely stop the vehicle\n",
      "\n"
     ]
    }
   ],
   "source": [
    "# Start coding here, use as many cells as you like\n",
    "print(car_docs)\n",
    "text_splitter = RecursiveCharacterTextSplitter(\n",
    "    chunk_size = 300,\n",
    "    chunk_overlap=100,\n",
    "    separators=[\n",
    "        \"\\n\\n\",\n",
    "        \"\\n\",\n",
    "        \" \",\n",
    "        \".\",\n",
    "        \",\",\n",
    "    ]\n",
    ")\n",
    "\n",
    "chunks = text_splitter.split_documents(\n",
    "    documents=car_docs\n",
    ")\n",
    "\n",
    "\n",
    "for i, chunk in enumerate(chunks[:3]):\n",
    "    print(f\"Chunk {i+1}:\\n{chunk.page_content}\\n\")"
   ]
  },
  {
   "cell_type": "code",
   "execution_count": 24,
   "id": "b5a52779",
   "metadata": {},
   "outputs": [
    {
     "name": "stdout",
     "output_type": "stream",
     "text": [
      "content='The Gasoline Particular Filter Full warning indicates that the particular filter is full. You should consult an MG Authorised Repairer as soon as possible.' additional_kwargs={'refusal': None} response_metadata={'token_usage': {'completion_tokens': 29, 'prompt_tokens': 233, 'total_tokens': 262, 'completion_tokens_details': {'accepted_prediction_tokens': 0, 'audio_tokens': 0, 'reasoning_tokens': 0, 'rejected_prediction_tokens': 0}, 'prompt_tokens_details': {'audio_tokens': 0, 'cached_tokens': 0}}, 'model_name': 'gpt-4o-mini-2024-07-18', 'system_fingerprint': 'fp_560af6e559', 'id': 'chatcmpl-CR4nqWiqEU3XKjWk4AIFsMM4wQNCY', 'service_tier': 'default', 'finish_reason': 'stop', 'logprobs': None} id='run--c49ea618-ee1a-4bf8-9c84-fea318e9efb3-0' usage_metadata={'input_tokens': 233, 'output_tokens': 29, 'total_tokens': 262, 'input_token_details': {'audio': 0, 'cache_read': 0}, 'output_token_details': {'audio': 0, 'reasoning': 0}}\n"
     ]
    }
   ],
   "source": [
    "vector_store = Chroma.from_documents(\n",
    "    documents=chunks,\n",
    "    embedding=embeddings\n",
    ")\n",
    "\n",
    "prompt= \"\"\"\n",
    "Use only the context given to answer the following question, if you are unsure, say it\n",
    "Context: {context}\n",
    "Question: {question}\n",
    "\"\"\"\n",
    "\n",
    "\n",
    "prompt_template = ChatPromptTemplate.from_template(prompt)\n",
    "\n",
    "retreiver = vector_store.as_retriever(\n",
    "   search_type=\"similarity\", \n",
    "   search_kwargs={\"k\":2}\n",
    ")\n",
    "\n",
    "chain = ({\"context\":retreiver, \"question\":RunnablePassthrough()}\n",
    "         | prompt_template \n",
    "         | llm\n",
    "         )\n",
    "\n",
    "question = \"The Gasoline Particular Filter Full warning has appeared. What does this mean and what should I do about it?\" \n",
    "\n",
    "answer=chain.invoke(question)\n",
    "print(answer)"
   ]
  },
  {
   "cell_type": "code",
   "execution_count": null,
   "id": "1f7327b1",
   "metadata": {},
   "outputs": [],
   "source": []
  },
  {
   "cell_type": "code",
   "execution_count": null,
   "id": "fdc92b33",
   "metadata": {},
   "outputs": [],
   "source": []
  }
 ],
 "metadata": {
  "colab": {
   "name": "Welcome to DataCamp Workspaces.ipynb",
   "provenance": []
  },
  "kernelspec": {
   "display_name": ".venv",
   "language": "python",
   "name": "python3"
  },
  "language_info": {
   "codemirror_mode": {
    "name": "ipython",
    "version": 3
   },
   "file_extension": ".py",
   "mimetype": "text/x-python",
   "name": "python",
   "nbconvert_exporter": "python",
   "pygments_lexer": "ipython3",
   "version": "3.11.9"
  }
 },
 "nbformat": 4,
 "nbformat_minor": 5
}
